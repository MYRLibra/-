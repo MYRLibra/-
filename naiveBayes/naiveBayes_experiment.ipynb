{
 "cells": [
  {
   "cell_type": "markdown",
   "metadata": {},
   "source": [
    "### 书中例题  P63 例4.1"
   ]
  },
  {
   "cell_type": "code",
   "execution_count": null,
   "metadata": {
    "collapsed": true
   },
   "outputs": [],
   "source": [
    "import naive_bayes as na\n",
    "import numpy as np\n",
    "path=r'E:\\PYproject\\data\\eg4.1.xlsx'\n",
    "data=na.load_excel(path)\n",
    "data=np.array(data)\n",
    "X_data=data[:,:-1]\n",
    "y_data=data[:,-1]\n",
    "x=np.array([2,'S'])\n",
    "\n",
    "#调用自己编写的库\n",
    "clf=na.naiveBayes(lambda_=1)\n",
    "clf.fit(X_data,y_data)\n",
    "result1=clf.predict(x)\n",
    "print('result1: ',result1)\n",
    "\n",
    "#调用sklearn库\n",
    "from sklearn.naive_bayes import GaussianNB\n",
    "clf2=GaussianNB()\n",
    "clf2.fit(X_data,y_data)\n",
    "result2=clf2.predict(x)\n",
    "print('result2: ',result2)"
   ]
  },
  {
   "cell_type": "markdown",
   "metadata": {},
   "source": [
    "result1:  ['-1']  \n",
    "TypeError: cannot perform reduce with flexible type  \n",
    "sklearn库中的朴素贝叶斯算法只能对数值型数据进行处理，不能处理字符型数据"
   ]
  },
  {
   "cell_type": "code",
   "execution_count": 3,
   "metadata": {},
   "outputs": [
    {
     "name": "stdout",
     "output_type": "stream",
     "text": [
      "result1:  [-1]\n",
      "result2:  [-1]\n"
     ]
    }
   ],
   "source": [
    "import numpy as np\n",
    "data = np.array([[1, 0, -1], [1, 1, -1], [1, 1, 1], [1, 0, 1],\n",
    "                     [1, 0, -1], [2, 0, -1], [2, 1, -1], [2, 1, 1],\n",
    "                     [2, 2, 1], [2, 2, 1], [3, 2, 1], [3, 1, 1],\n",
    "                     [3, 1, 1], [3, 2, 1], [3, 2, -1]])\n",
    "X_data=data[:,:-1]\n",
    "y_data=data[:,-1]\n",
    "x=np.array([2,0])\n",
    "\n",
    "#调用自己编写的库\n",
    "import naive_bayes as na\n",
    "clf1=na.naiveBayes(lambda_=1)\n",
    "clf1.fit(X_data,y_data)\n",
    "result1=clf1.predict(x)\n",
    "print('result1: ',result1)\n",
    "\n",
    "#调用sklearn库\n",
    "from sklearn.naive_bayes import GaussianNB\n",
    "clf2=GaussianNB()\n",
    "clf2.fit(X_data,y_data)\n",
    "result2=clf2.predict(x.reshape(1,-1))\n",
    "print('result2: ',result2)\n"
   ]
  },
  {
   "cell_type": "markdown",
   "metadata": {},
   "source": [
    "### iris数据集"
   ]
  },
  {
   "cell_type": "code",
   "execution_count": 4,
   "metadata": {},
   "outputs": [
    {
     "name": "stdout",
     "output_type": "stream",
     "text": [
      "result1:  [0]\n",
      "result2:  [0]\n"
     ]
    }
   ],
   "source": [
    "from sklearn import datasets\n",
    "iris=datasets.load_iris()\n",
    "X_data=iris.data\n",
    "y_data=iris.target\n",
    "x=iris.data[0]\n",
    "#print(iris.feature_names)\n",
    "#print(iris.data)\n",
    "#print(iris.target_names)\n",
    "#print(iris.target)\n",
    "\n",
    "#调用自己编写的库\n",
    "import naive_bayes as na\n",
    "clf1=na.naiveBayes(lambda_=1)\n",
    "clf1.fit(X_data,y_data)\n",
    "result1=clf1.predict(x)\n",
    "print('result1: ',result1)\n",
    "\n",
    "#调用sklearn库\n",
    "from sklearn.naive_bayes import GaussianNB\n",
    "clf2=GaussianNB()\n",
    "clf2.fit(X_data,y_data)\n",
    "result2=clf2.predict(x.reshape(1,-1))\n",
    "print('result2: ',result2)"
   ]
  },
  {
   "cell_type": "code",
   "execution_count": 5,
   "metadata": {},
   "outputs": [
    {
     "name": "stdout",
     "output_type": "stream",
     "text": [
      "result1:  [2, 1, 0, 0, 2, 2, 1, 1, 0, 0, 2, 0, 0, 2, 2, 1, 0, 2, 2, 1, 1, 0, 1, 1, 0, 2, 2, 0, 2, 1, 0, 1, 2, 2, 2, 2, 0, 1, 2, 2, 1, 0, 2, 0, 1]\n",
      "result2:  [2 1 0 0 2 2 1 1 0 0 2 0 0 2 2 1 0 2 2 1 1 0 1 1 0 2 2 0 2 1 0 1 2 2 2 2 0\n",
      " 1 2 2 1 0 2 0 1]\n",
      "accuracy1:  0.9555555555555556\n",
      "accuracy2:  0.9555555555555556\n"
     ]
    }
   ],
   "source": [
    "from sklearn import datasets\n",
    "from sklearn.model_selection import train_test_split\n",
    "iris=datasets.load_iris()\n",
    "X_data=iris.data\n",
    "y_data=iris.target\n",
    "X_train,X_test,y_train,y_test=train_test_split(X_data,y_data,test_size=0.3)#测试集占总数据集的30%\n",
    "\n",
    "\n",
    "#调用自己编写的库\n",
    "import naive_bayes as na\n",
    "clf1=na.naiveBayes(lambda_=1)\n",
    "clf1.fit(X_data,y_data)\n",
    "result1=clf1.predict(X_test)\n",
    "print('result1: ',result1)\n",
    "\n",
    "#调用sklearn库\n",
    "from sklearn.naive_bayes import GaussianNB\n",
    "clf2=GaussianNB()\n",
    "clf2.fit(X_train,y_train)\n",
    "result2=clf2.predict(X_test)\n",
    "print('result2: ',result2)\n",
    "\n",
    "#计算预测准确率\n",
    "count1=0\n",
    "for left,right in zip(result1,y_test):\n",
    "    if left==right:\n",
    "        count1+=1\n",
    "print('accuracy1: ',count1/len(y_test))\n",
    "\n",
    "count2=0\n",
    "for left,right in zip(result2,y_test):\n",
    "    if left==right:\n",
    "        count2+=1\n",
    "print('accuracy2: ',count2/len(y_test))"
   ]
  },
  {
   "cell_type": "markdown",
   "metadata": {},
   "source": [
    "### Tips\n",
    "在scikit-learn包中提供了三种常用的朴素贝叶斯算法  \n",
    "上述实验中用的是高斯朴素贝叶斯，主要应用于数值型特征  \n",
    "另外两种为多项式朴素贝叶斯、伯努利朴素贝叶斯，主要应用于文本分类  \n",
    "\n",
    "from sklearn.naive_bayes import GaussianNB  \n",
    "from sklearn.naive_bayes import MultinomialNB  \n",
    "from sklearn.naive_bayes import BernoulliNB  \n"
   ]
  }
 ],
 "metadata": {
  "kernelspec": {
   "display_name": "Python 3",
   "language": "python",
   "name": "python3"
  },
  "language_info": {
   "codemirror_mode": {
    "name": "ipython",
    "version": 3
   },
   "file_extension": ".py",
   "mimetype": "text/x-python",
   "name": "python",
   "nbconvert_exporter": "python",
   "pygments_lexer": "ipython3",
   "version": "3.6.2"
  }
 },
 "nbformat": 4,
 "nbformat_minor": 2
}

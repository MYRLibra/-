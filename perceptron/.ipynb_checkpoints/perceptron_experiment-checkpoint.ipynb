{
 "cells": [
  {
   "cell_type": "markdown",
   "metadata": {},
   "source": [
    "## 原始形式"
   ]
  },
  {
   "cell_type": "code",
   "execution_count": 1,
   "metadata": {},
   "outputs": [
    {
     "name": "stdout",
     "output_type": "stream",
     "text": [
      "[0, 0] 0\n",
      "[3, 3] 1\n",
      "[2, 2] 0\n",
      "[1, 1] -1\n",
      "[0, 0] -2\n",
      "[3, 3] -1\n",
      "[2, 2] -2\n",
      "[1, 1] -3\n"
     ]
    }
   ],
   "source": [
    "import perceptron as p\n",
    "import numpy as np\n",
    "x_data=np.array([[3,3],[4,3],[1,1]])\n",
    "y_data=[1,1,-1]\n",
    "\n",
    "clf=p.perceptron(1)\n",
    "clf.fit(x_data,y_data)"
   ]
  },
  {
   "cell_type": "markdown",
   "metadata": {},
   "source": [
    "输出为w, b"
   ]
  },
  {
   "cell_type": "markdown",
   "metadata": {
    "collapsed": true
   },
   "source": [
    "## 对偶形式"
   ]
  },
  {
   "cell_type": "code",
   "execution_count": 2,
   "metadata": {},
   "outputs": [
    {
     "name": "stdout",
     "output_type": "stream",
     "text": [
      "[0, 0, 0] 0\n",
      "[1, 0, 0] 1\n",
      "[1, 0, 1] 0\n",
      "[1, 0, 2] -1\n",
      "[1, 0, 3] -2\n",
      "[2, 0, 3] -1\n",
      "[2, 0, 4] -2\n",
      "[2, 0, 5] -3\n",
      "[1, 1] -3\n"
     ]
    }
   ],
   "source": [
    "import dual_perceptron as p\n",
    "import numpy as np\n",
    "x_data=np.array([[3,3],[4,3],[1,1]])\n",
    "y_data=[1,1,-1]\n",
    "\n",
    "clf=p.dualPerceptron(1)\n",
    "clf.fit(x_data,y_data)"
   ]
  },
  {
   "cell_type": "markdown",
   "metadata": {},
   "source": [
    "前几行的输出为α, b；\n",
    "最后一行输出为w, b"
   ]
  }
 ],
 "metadata": {
  "kernelspec": {
   "display_name": "Python 3",
   "language": "python",
   "name": "python3"
  },
  "language_info": {
   "codemirror_mode": {
    "name": "ipython",
    "version": 3
   },
   "file_extension": ".py",
   "mimetype": "text/x-python",
   "name": "python",
   "nbconvert_exporter": "python",
   "pygments_lexer": "ipython3",
   "version": "3.6.2"
  }
 },
 "nbformat": 4,
 "nbformat_minor": 2
}
